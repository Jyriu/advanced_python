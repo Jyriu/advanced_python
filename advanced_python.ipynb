{
 "cells": [
  {
   "cell_type": "markdown",
   "metadata": {},
   "source": [
    "Crée une classe Livre qui a les attributs suivants :\n",
    "\n",
    "titre (str)\n",
    "auteur (str)\n",
    "pages (int)\n",
    "\n",
    "Ajoute une méthode afficher_details() qui affiche les informations du livre (titre, auteur, nombre de pages).\n",
    "\n",
    "Crée une méthode lire() qui simule la lecture du livre."
   ]
  },
  {
   "cell_type": "code",
   "execution_count": 16,
   "metadata": {},
   "outputs": [
    {
     "name": "stdout",
     "output_type": "stream",
     "text": [
      "Titre : 1984, Auteur : George Orwell, Pages : 328\n",
      "Vous parcourez les pages du livre du début à la fin...\n"
     ]
    }
   ],
   "source": [
    "class Livre:\n",
    "    def __init__(self, titre, auteur, pages):\n",
    "        self.titre = titre\n",
    "        self.auteur = auteur\n",
    "        self.pages = pages\n",
    "\n",
    "    def afficher_details(self):\n",
    "        print(f'Titre : {self.titre}, Auteur : {self.auteur}, Pages : {self.pages}')\n",
    "\n",
    "    def lire(self):\n",
    "        print('Vous parcourez les pages du livre du début à la fin...')\n",
    "\n",
    "\n",
    "mon_livre = Livre('1984', 'George Orwell', 328)\n",
    "mon_livre.afficher_details()\n",
    "mon_livre.lire()"
   ]
  },
  {
   "cell_type": "markdown",
   "metadata": {},
   "source": [
    "Crée une classe Ebook qui hérite de la classe Livre.\n",
    "\n",
    "Ajoute un attribut supplémentaire taille_fichier (en Mo).\n",
    "\n",
    "Modifie la méthode afficher_details() pour inclure la taille du fichier."
   ]
  },
  {
   "cell_type": "code",
   "execution_count": 17,
   "metadata": {},
   "outputs": [
    {
     "name": "stdout",
     "output_type": "stream",
     "text": [
      "Titre : 1984, Auteur : George Orwell, Pages : 328, Taille du fichier 1.5 MO\n"
     ]
    }
   ],
   "source": [
    "class Ebook(Livre):\n",
    "    def __init__(self, titre, auteur, pages, taille_fichier):\n",
    "        super().__init__(titre, auteur, pages)\n",
    "        self.taille_fichier = taille_fichier\n",
    "\n",
    "    def afficher_details(self):\n",
    "        print(f'Titre : {self.titre}, Auteur : {self.auteur}, Pages : {self.pages}, Taille du fichier {self.taille_fichier} MO')\n",
    "\n",
    "mon_ebook = Ebook('1984', 'George Orwell', 328, 1.5)\n",
    "mon_ebook.afficher_details()"
   ]
  },
  {
   "cell_type": "markdown",
   "metadata": {},
   "source": [
    "Écris un programme qui demande à l'utilisateur d'entrer un nombre entier. Si l'utilisateur entre une chaîne de caractères au lieu d'un nombre, affiche un message d'erreur. Si l'utilisateur entre 0, gère l'erreur de division par zéro."
   ]
  },
  {
   "cell_type": "code",
   "execution_count": 19,
   "metadata": {},
   "outputs": [
    {
     "name": "stdout",
     "output_type": "stream",
     "text": [
      "Résultat : 5.0\n"
     ]
    }
   ],
   "source": [
    "try:\n",
    "    x = int(input('Entrez un nombre entier : '))\n",
    "    y = 10 / x\n",
    "    print(f'Résultat : {y}')\n",
    "except ZeroDivisionError:\n",
    "    print('Erreur : Division par zéro impossible.')\n",
    "except ValueError:\n",
    "    print('Erreur : Veuillez entrer un nombre valide.')"
   ]
  },
  {
   "cell_type": "markdown",
   "metadata": {},
   "source": [
    "Crée une fonction qui demande à l'utilisateur d'entrer son nom. Si le nom contient moins de 3 caractères, lève une exception personnalisée avec un message d'erreur."
   ]
  },
  {
   "cell_type": "code",
   "execution_count": 24,
   "metadata": {},
   "outputs": [
    {
     "name": "stdout",
     "output_type": "stream",
     "text": [
      "Erreur : Le nom doit contenir au moins 3 caractères.\n"
     ]
    }
   ],
   "source": [
    "def function():\n",
    "    name = input('Entrez votre nom : ')\n",
    "    if len(name) < 3:\n",
    "        raise ValueError('Le nom doit contenir au moins 3 caractères.')\n",
    "    else:\n",
    "        print(f'Bienvenue {name}')\n",
    "\n",
    "\n",
    "try:\n",
    "    function()\n",
    "except ValueError as e:\n",
    "    print(f'Erreur : {e}')"
   ]
  }
 ],
 "metadata": {
  "kernelspec": {
   "display_name": "base",
   "language": "python",
   "name": "python3"
  },
  "language_info": {
   "codemirror_mode": {
    "name": "ipython",
    "version": 3
   },
   "file_extension": ".py",
   "mimetype": "text/x-python",
   "name": "python",
   "nbconvert_exporter": "python",
   "pygments_lexer": "ipython3",
   "version": "3.12.4"
  }
 },
 "nbformat": 4,
 "nbformat_minor": 2
}
